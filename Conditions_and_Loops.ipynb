{
  "nbformat": 4,
  "nbformat_minor": 0,
  "metadata": {
    "colab": {
      "provenance": []
    },
    "kernelspec": {
      "name": "python3",
      "display_name": "Python 3"
    },
    "language_info": {
      "name": "python"
    }
  },
  "cells": [
    {
      "cell_type": "markdown",
      "source": [
        "Q1. What are conditional statements? Explain conditional statements with syntax and examples"
      ],
      "metadata": {
        "id": "PTtLS9NWtvFe"
      }
    },
    {
      "cell_type": "markdown",
      "source": [
        "Ans:  Conditional Statements in JavaScript\n",
        "\n",
        "Conditional statements are used to perform different actions based on different conditions. They allow the program to decide which block of code to execute depending on whether a condition is true or false.\n",
        "\n",
        "1. if Statement\n",
        "Executes a block of code only if the condition is true.\n",
        "\n",
        "if (condition) {\n",
        "    // Code to be executed if condition is true\n",
        "}\n",
        "\n",
        "let age = 20;\n",
        "\n",
        "if (age >= 18) {\n",
        "    console.log(\"You are an adult.\");\n",
        "}\n",
        "\n",
        "\n",
        "2. if...else Statement\n",
        "Executes one block of code if the condition is true, otherwise another block of code.\n",
        "\n",
        "let age = 16;\n",
        "\n",
        "if (age >= 18) {\n",
        "    console.log(\"You are an adult.\");\n",
        "} else {\n",
        "    console.log(\"You are a minor.\");\n",
        "}\n",
        "\n",
        "3. if...else if...else Statement\n",
        "Checks multiple conditions and executes the block of code that matches the first true condition.\n",
        "\n",
        "let marks = 75;\n",
        "\n",
        "if (marks >= 90) {\n",
        "    console.log(\"Grade: A\");\n",
        "} else if (marks >= 75) {\n",
        "    console.log(\"Grade: B\");\n",
        "} else if (marks >= 50) {\n",
        "    console.log(\"Grade: C\");\n",
        "} else {\n",
        "    console.log(\"Fail\");\n",
        "}\n",
        "\n",
        "4. switch Statement\n",
        "Used to perform different actions based on different values of a single expression.\n",
        "\n",
        "let day = 3;\n",
        "\n",
        "switch(day) {\n",
        "    case 1:\n",
        "        console.log(\"Monday\");\n",
        "        break;\n",
        "    case 2:\n",
        "        console.log(\"Tuesday\");\n",
        "        break;\n",
        "    case 3:\n",
        "        console.log(\"Wednesday\");\n",
        "        break;\n",
        "    default:\n",
        "        console.log(\"Invalid day\");\n",
        "}\n",
        "\n",
        "5. Ternary Operator\n",
        "A shorthand way of writing an if...else statement.\n",
        "\n",
        "let age = 18;\n",
        "let message = (age >= 18) ? \"Adult\" : \"Minor\";\n",
        "console.log(message);\n"
      ],
      "metadata": {
        "id": "BAJT4EyztzFD"
      }
    },
    {
      "cell_type": "markdown",
      "source": [
        "Q2.Write a program that grades students based on their marks.\n",
        " If greater than 90 then A GradE\n",
        " If between 70 and 90 then a B gradE\n",
        " If between 50 and 70 then a C gradE\n",
        " Below 50 then an F grade"
      ],
      "metadata": {
        "id": "a2we-8pmuhmK"
      }
    },
    {
      "cell_type": "code",
      "source": [
        "let marks = 85; // You can change this value to test\n",
        "\n",
        "if (marks > 90) {\n",
        "    console.log(\"A Grade\");\n",
        "} else if (marks >= 70 && marks <= 90) {\n",
        "    console.log(\"B Grade\");\n",
        "} else if (marks >= 50 && marks < 70) {\n",
        "    console.log(\"C Grade\");\n",
        "} else {\n",
        "    console.log(\"F Grade\");\n",
        "}\n"
      ],
      "metadata": {
        "id": "8sS7HNSzyZ-L"
      },
      "execution_count": null,
      "outputs": []
    },
    {
      "cell_type": "markdown",
      "source": [
        "Q3.What are loops, and what do we need them? Explain different types of loops with their syntax and\n",
        "examples"
      ],
      "metadata": {
        "id": "fQixWzaayWRp"
      }
    },
    {
      "cell_type": "markdown",
      "source": [
        "Ans:  Loops repeat a block of code until a condition is met.\n",
        "Need: Avoid repetition, automate tasks, process data efficiently.\n",
        "\n",
        "1. for loop\n",
        "\n",
        "Used when the number of iterations is known.\n",
        "Syntax:\n",
        "\n",
        "for (let i = 1; i <= 5; i++) {\n",
        "    console.log(i);\n",
        "}\n",
        "\n",
        "2. while loop\n",
        "\n",
        "Runs while the condition is true, useful when iterations are unknown.\n",
        "Syntax:\n",
        "let i = 1;\n",
        "while (i <= 5) {\n",
        "    console.log(i);\n",
        "    i++;\n",
        "}\n",
        "\n",
        "3. do...while loop\n",
        "\n",
        "Executes at least once, checks condition after execution.\n",
        "Syntax:\n",
        "let i = 1;\n",
        "do {\n",
        "    console.log(i);\n",
        "    i++;\n",
        "} while (i <= 5);\n",
        "\n",
        "\n"
      ],
      "metadata": {
        "id": "gVt1ygBBtTjc"
      }
    },
    {
      "cell_type": "markdown",
      "source": [
        "Q4.. Generate numbers between any 2 given numbers.\n",
        "\n",
        "Ex\n",
        "8 const num1 = 10\n",
        "8 const num2 = 25;\n",
        "\n",
        "Output: 11, 12, 13, …., 25"
      ],
      "metadata": {
        "id": "nQmkqBrSuQe8"
      }
    },
    {
      "cell_type": "code",
      "source": [
        "const num1 = 10;\n",
        "const num2 = 25;\n",
        "\n",
        "for (let i = num1 + 1; i <= num2; i++) {\n",
        "    console.log(i);\n",
        "}\n"
      ],
      "metadata": {
        "id": "Pk2OS1uxvD08"
      },
      "execution_count": null,
      "outputs": []
    },
    {
      "cell_type": "markdown",
      "source": [
        "Q5.Use the while loop to print numbers from 1 to 25 in ascending and descending order"
      ],
      "metadata": {
        "id": "jsG660jBvEx6"
      }
    },
    {
      "cell_type": "code",
      "source": [
        "// Ascending\n",
        "let i = 1;\n",
        "console.log(\"Ascending Order:\");\n",
        "while (i <= 25) {\n",
        "    console.log(i);\n",
        "    i++;\n",
        "}\n",
        "\n",
        "// Descending\n",
        "let j = 25;\n",
        "console.log(\"Descending Order:\");\n",
        "while (j >= 1) {\n",
        "    console.log(j);\n",
        "    j--;\n",
        "}\n"
      ],
      "metadata": {
        "id": "hZfPXg-8vkHt"
      },
      "execution_count": null,
      "outputs": []
    }
  ]
}